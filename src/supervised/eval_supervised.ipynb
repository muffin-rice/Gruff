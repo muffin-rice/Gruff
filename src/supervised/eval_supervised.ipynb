{
 "cells": [
  {
   "cell_type": "code",
   "execution_count": 1,
   "id": "c8cce7ec-2fe3-4c51-a54b-1cc009eedbf3",
   "metadata": {},
   "outputs": [],
   "source": [
    "import torch\n",
    "import pytorch_lightning as pl\n",
    "from tqdm import tqdm\n",
    "\n",
    "from BridgeNetwork import BridgeSupervised, BridgeBase\n",
    "from BridgeDataModule import BridgeDataModule"
   ]
  },
  {
   "cell_type": "code",
   "execution_count": 2,
   "id": "e49dc753-274e-4415-97e7-84e7f5c408fc",
   "metadata": {},
   "outputs": [
    {
     "data": {
      "text/plain": [
       "<All keys matched successfully>"
      ]
     },
     "execution_count": 2,
     "metadata": {},
     "output_type": "execute_result"
    }
   ],
   "source": [
    "model = BridgeBase(inner_dim=1024)\n",
    "state_dict = torch.load(r'../logs/base/checkpoints/bridge-base-epoch=4.ckpt')\n",
    "model.load_state_dict(state_dict['state_dict'])"
   ]
  },
  {
   "cell_type": "code",
   "execution_count": 3,
   "id": "80e7dba7-bcee-4edb-9711-7c8a7f1208fe",
   "metadata": {},
   "outputs": [],
   "source": [
    "datamodule = BridgeDataModule(data_dir='../data', batch_size=512, prefetch=2048, workers=4)\n",
    "datamodule.setup()\n",
    "loader = datamodule.val_dataloader()"
   ]
  },
  {
   "cell_type": "code",
   "execution_count": 4,
   "id": "722d0d37-6d83-449a-94b7-b5c4a898e38d",
   "metadata": {},
   "outputs": [],
   "source": [
    "%%capture\n",
    "device = torch.device('cuda:0' if torch.cuda.is_available() else 'cpu')\n",
    "model.to(device)"
   ]
  },
  {
   "cell_type": "code",
   "execution_count": 5,
   "id": "7944ccd3-89d5-46af-9a3d-7c99130922c9",
   "metadata": {},
   "outputs": [
    {
     "name": "stderr",
     "output_type": "stream",
     "text": [
      "100%|██████████| 20/20 [14:46<00:00, 44.32s/it]\n"
     ]
    }
   ],
   "source": [
    "MIN_ACTION = 52\n",
    "accs = []\n",
    "\n",
    "for batch in tqdm(loader):\n",
    "    x, y = batch['observation'].to(device), batch['labels'].to(device)\n",
    "    y += MIN_ACTION\n",
    "    yhat = model(x)\n",
    "    accs.append(model.metrics_fn(yhat,y)['acc'].item())"
   ]
  },
  {
   "cell_type": "code",
   "execution_count": 6,
   "id": "8cedd15c-e4b2-493a-90ca-6ffb4e2d31dc",
   "metadata": {},
   "outputs": [
    {
     "data": {
      "text/plain": [
       "tensor(0.4747)"
      ]
     },
     "execution_count": 6,
     "metadata": {},
     "output_type": "execute_result"
    }
   ],
   "source": [
    "accs = torch.tensor(accs)\n",
    "accs.mean()"
   ]
  }
 ],
 "metadata": {
  "kernelspec": {
   "display_name": "Python 3 (ipykernel)",
   "language": "python",
   "name": "python3"
  },
  "language_info": {
   "codemirror_mode": {
    "name": "ipython",
    "version": 3
   },
   "file_extension": ".py",
   "mimetype": "text/x-python",
   "name": "python",
   "nbconvert_exporter": "python",
   "pygments_lexer": "ipython3",
   "version": "3.9.7"
  }
 },
 "nbformat": 4,
 "nbformat_minor": 5
}
